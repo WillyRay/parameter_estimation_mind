{
 "cells": [
  {
   "cell_type": "code",
   "id": "initial_id",
   "metadata": {
    "collapsed": true,
    "ExecuteTime": {
     "end_time": "2024-10-01T15:18:43.815256Z",
     "start_time": "2024-10-01T15:18:43.806852Z"
    }
   },
   "source": [
    "import pandas as pd\n",
    "import numpy as np\n",
    "from dataclasses import dataclass\n",
    "\n",
    "\n",
    "#define data classes:\n",
    "@dataclass\n",
    "class Run:\n",
    "    id: int\n",
    "    decay: float\n",
    "    touchTransferFraction: float\n",
    "    counts: list[int]\n",
    "    occupancies: list[int]\n",
    "    cdffs: list[int]\n",
    "    anyCps: list[int]\n",
    "\n",
    "@dataclass\n",
    "class Sample:\n",
    "        run: int\n",
    "        startDay: int\n",
    "        decay: float\n",
    "        touchTransferFractions: float\n",
    "        counts: list[int]\n",
    "        occupancies: list[int]\n",
    "        cdiffs: list[int]\n",
    "        anyCps: list[int]\n",
    "        \n"
   ],
   "outputs": [],
   "execution_count": 6
  },
  {
   "metadata": {
    "ExecuteTime": {
     "end_time": "2024-10-01T15:18:43.880067Z",
     "start_time": "2024-10-01T15:18:43.827774Z"
    }
   },
   "cell_type": "code",
   "source": [
    "# read the simulated data into a dataframe.  Indexed on the run and sorted by tick.\n",
    "\n",
    "data = pd.read_csv('data/sim_data.csv', index_col=['run']).sort_index().sort_values(by=\"tick\")\n",
    "data.head()"
   ],
   "id": "ab2d712e9869cf77",
   "outputs": [
    {
     "data": {
      "text/plain": [
       "     count  tick  decayRate  surfaceTransferFraction  CDIFF  occupancy  anyCP\n",
       "run                                                                          \n",
       "16    23.0  90.0   0.590993                 0.939448    0.0         15    2.0\n",
       "8      0.0  90.0   0.789146                 0.665336    0.0         15    5.0\n",
       "6      2.0  90.0   0.728805                 0.799395    0.0         16    3.0\n",
       "19     5.0  90.0   0.781537                 0.443818    2.0         12    2.0\n",
       "2      0.0  90.0   0.539657                 0.258963    0.0         20    4.0"
      ],
      "text/html": [
       "<div>\n",
       "<style scoped>\n",
       "    .dataframe tbody tr th:only-of-type {\n",
       "        vertical-align: middle;\n",
       "    }\n",
       "\n",
       "    .dataframe tbody tr th {\n",
       "        vertical-align: top;\n",
       "    }\n",
       "\n",
       "    .dataframe thead th {\n",
       "        text-align: right;\n",
       "    }\n",
       "</style>\n",
       "<table border=\"1\" class=\"dataframe\">\n",
       "  <thead>\n",
       "    <tr style=\"text-align: right;\">\n",
       "      <th></th>\n",
       "      <th>count</th>\n",
       "      <th>tick</th>\n",
       "      <th>decayRate</th>\n",
       "      <th>surfaceTransferFraction</th>\n",
       "      <th>CDIFF</th>\n",
       "      <th>occupancy</th>\n",
       "      <th>anyCP</th>\n",
       "    </tr>\n",
       "    <tr>\n",
       "      <th>run</th>\n",
       "      <th></th>\n",
       "      <th></th>\n",
       "      <th></th>\n",
       "      <th></th>\n",
       "      <th></th>\n",
       "      <th></th>\n",
       "      <th></th>\n",
       "    </tr>\n",
       "  </thead>\n",
       "  <tbody>\n",
       "    <tr>\n",
       "      <th>16</th>\n",
       "      <td>23.0</td>\n",
       "      <td>90.0</td>\n",
       "      <td>0.590993</td>\n",
       "      <td>0.939448</td>\n",
       "      <td>0.0</td>\n",
       "      <td>15</td>\n",
       "      <td>2.0</td>\n",
       "    </tr>\n",
       "    <tr>\n",
       "      <th>8</th>\n",
       "      <td>0.0</td>\n",
       "      <td>90.0</td>\n",
       "      <td>0.789146</td>\n",
       "      <td>0.665336</td>\n",
       "      <td>0.0</td>\n",
       "      <td>15</td>\n",
       "      <td>5.0</td>\n",
       "    </tr>\n",
       "    <tr>\n",
       "      <th>6</th>\n",
       "      <td>2.0</td>\n",
       "      <td>90.0</td>\n",
       "      <td>0.728805</td>\n",
       "      <td>0.799395</td>\n",
       "      <td>0.0</td>\n",
       "      <td>16</td>\n",
       "      <td>3.0</td>\n",
       "    </tr>\n",
       "    <tr>\n",
       "      <th>19</th>\n",
       "      <td>5.0</td>\n",
       "      <td>90.0</td>\n",
       "      <td>0.781537</td>\n",
       "      <td>0.443818</td>\n",
       "      <td>2.0</td>\n",
       "      <td>12</td>\n",
       "      <td>2.0</td>\n",
       "    </tr>\n",
       "    <tr>\n",
       "      <th>2</th>\n",
       "      <td>0.0</td>\n",
       "      <td>90.0</td>\n",
       "      <td>0.539657</td>\n",
       "      <td>0.258963</td>\n",
       "      <td>0.0</td>\n",
       "      <td>20</td>\n",
       "      <td>4.0</td>\n",
       "    </tr>\n",
       "  </tbody>\n",
       "</table>\n",
       "</div>"
      ]
     },
     "execution_count": 7,
     "metadata": {},
     "output_type": "execute_result"
    }
   ],
   "execution_count": 7
  },
  {
   "metadata": {
    "ExecuteTime": {
     "end_time": "2024-10-01T15:35:18.279868Z",
     "start_time": "2024-10-01T15:35:18.243547Z"
    }
   },
   "cell_type": "code",
   "source": [
    "# How many runs do we have and what are their lengths?\n",
    "#for i in data.index.unique():\n",
    "    #print(i, \": \", len(data.loc[i]))\n",
    "    \n",
    "runs = []\n",
    "\n",
    "#create individual run objects for each run in the data.  Each run object will have a list of counts, occupancies, cdffs, and anyCps\n",
    "for i in data.index.unique():\n",
    "    #print(i)\n",
    "    #print(data.loc[i].decayRate.iloc[1])\n",
    "    run = Run(id=i, decay=data.loc[i].decayRate.iloc[0], touchTransferFraction=data.loc[i].surfaceTransferFraction.iloc[0], counts=data.loc[i].count, occupancies=data.loc[i].occupancy, cdffs=data.loc[i].CDIFF, anyCps=data.loc[i].anyCP)\n",
    "    runs.append(run)\n",
    "\n",
    "# print(runs)"
   ],
   "id": "8b283d7b5112988b",
   "outputs": [],
   "execution_count": 41
  },
  {
   "metadata": {
    "ExecuteTime": {
     "end_time": "2024-10-01T15:24:16.023681Z",
     "start_time": "2024-10-01T15:24:16.017423Z"
    }
   },
   "cell_type": "code",
   "source": [
    "#define a function to split the sequences into lists of n steps (we have 56 days of observed data)\n",
    "#we will split the simulated data into sequences n long (90-136, 91-137, 92-138, etc.)\n",
    "\n",
    "def split_sequences(run, number_of_steps):\n",
    "    start = int(run.tick.min())\n",
    "    end = int(run.tick.max())-int(number_of_steps)\n",
    "    print(start, \"-\", end)\n",
    "    print(run)\n",
    "    run_samples = []\n",
    "    for i in np.arange(start, end):\n",
    "        sample = Sample(run=run.index[0], startDay=i, decay=run.decayRate, touchTransferFractions=run.surfaceTransferFraction, counts=run.count[i:i+number_of_steps], occupancies=run.occupancy[i:i+number_of_steps], cdiffs=run.CDIFF[i:i+number_of_steps], anyCps=run.anyCp[i:i+number_of_steps])\n",
    "        run_samples.append(sample)\n",
    "    return run_samples"
   ],
   "id": "70e10e17d4abbb14",
   "outputs": [],
   "execution_count": 26
  },
  {
   "metadata": {
    "ExecuteTime": {
     "end_time": "2024-10-01T15:36:14.365241Z",
     "start_time": "2024-10-01T15:36:14.359793Z"
    }
   },
   "cell_type": "code",
   "source": [
    "# define a function to split the list of runs into a list of samples\n",
    "\n",
    "def split_runs(runs, number_of_steps):\n",
    "    samples = []\n",
    "    for run in runs:\n",
    "        samples.extend(split_sequences(run, number_of_steps))\n",
    "    return"
   ],
   "id": "16141db2cf7d00d1",
   "outputs": [],
   "execution_count": 42
  },
  {
   "metadata": {
    "ExecuteTime": {
     "end_time": "2024-10-01T15:18:44.267097Z",
     "start_time": "2024-10-01T15:18:44.262991Z"
    }
   },
   "cell_type": "code",
   "source": "",
   "id": "c608878936c98555",
   "outputs": [],
   "execution_count": null
  }
 ],
 "metadata": {
  "kernelspec": {
   "display_name": "Python 3",
   "language": "python",
   "name": "python3"
  },
  "language_info": {
   "codemirror_mode": {
    "name": "ipython",
    "version": 2
   },
   "file_extension": ".py",
   "mimetype": "text/x-python",
   "name": "python",
   "nbconvert_exporter": "python",
   "pygments_lexer": "ipython2",
   "version": "2.7.6"
  }
 },
 "nbformat": 4,
 "nbformat_minor": 5
}
